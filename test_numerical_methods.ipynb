{
 "cells": [
  {
   "cell_type": "code",
   "execution_count": null,
   "metadata": {},
   "outputs": [],
   "source": [
    "import numpy as np\n",
    "from lib import *\n",
    "from plotly import graph_objects as go \n",
    "from scipy.special import wofz\n",
    "from scipy.signal.windows import kaiser\n",
    "import lmfit"
   ]
  },
  {
   "cell_type": "markdown",
   "metadata": {},
   "source": [
    "# This notebook tests the basic numerical functions in the library"
   ]
  },
  {
   "cell_type": "markdown",
   "metadata": {},
   "source": [
    "## Test analytical functions of FT"
   ]
  },
  {
   "cell_type": "markdown",
   "metadata": {},
   "source": [
    "### FT of FID: exp(-at^2-bt)"
   ]
  },
  {
   "cell_type": "markdown",
   "metadata": {},
   "source": [
    "Compares the analytical expression of the FT of the FID function, with the numerical FT of the FID function."
   ]
  },
  {
   "cell_type": "code",
   "execution_count": null,
   "metadata": {
    "scrolled": false
   },
   "outputs": [],
   "source": [
    "tlen = 2**12; tzp = tlen * 4     # length of time array & zero-padding array\n",
    "trunc = 10   # time array truncation factor: truncate to intensity = exp(-10)\n",
    "\n",
    "fig_res = go.Figure()    # residual figure\n",
    "for a, b in [(1, -2), (1, 0), (1, 2), (0, 0.1)]:\n",
    "    # find time array truncation to avoid spectral leakage\n",
    "    if a > 0:\n",
    "        tmax = (np.sqrt(b**2 + 4 * a * trunc) - b) / (2 * a)\n",
    "    else:\n",
    "        tmax = trunc / b \n",
    "    t = np.linspace(0, tmax, num=tlen)\n",
    "    xx = np.fft.fftshift(np.fft.fftfreq(tzp)) / tmax * tlen   # x array in freq domain\n",
    "\n",
    "    # numerical FFT \n",
    "    fid = np.exp(-a * t**2 - b * t)\n",
    "    yy = np.fft.fftshift(np.abs(np.fft.fft(fid, tzp)))\n",
    "    \n",
    "    # analytical solution using time domain integral\n",
    "    yat = fid_ft_ana(xx, a, b, yshift=0)\n",
    "    \n",
    "    # make figure\n",
    "    fig = go.Figure(layout=go.Layout(title='a={:g}, b={:g}'.format(a, b)))\n",
    "    fig.update_xaxes(range=[-10, 10])\n",
    "    fig.add_trace(go.Scatter(x=xx, y=yy/yy.max(), name='Numerical FFT'))\n",
    "    fig.add_trace(go.Scatter(x=xx, y=yat/yat.max(), name='Analytical Expression'))\n",
    "    fig.show()\n",
    "    fig_res.add_trace(go.Scatter(x=xx, y=yy/yy.max()-yat/yat.max(), name='YAT a={:g}, b={:g}'.format(a, b)))\n",
    "fig_res.update_layout(title='Residuals')\n",
    "fig_res.show()"
   ]
  },
  {
   "cell_type": "markdown",
   "metadata": {},
   "source": [
    "### FT of Voigt-1D window: t * exp(-at^2-bt)"
   ]
  },
  {
   "cell_type": "code",
   "execution_count": null,
   "metadata": {
    "scrolled": false
   },
   "outputs": [],
   "source": [
    "tlen = 2**12; tzp = tlen * 4     # length of time array & zero-padding array\n",
    "trunc = 10   # time array truncation factor: truncate to intensity = exp(-10)\n",
    "\n",
    "fig_res = go.Figure()    # residual figure\n",
    "for a, b in [(1, -2), (1, 0), (1, 2), (0, 0.1)]:\n",
    "    # find time array truncation to avoid spectral leakage\n",
    "    if a > 0:\n",
    "        tmax = (np.sqrt(b**2 + 4 * a * trunc) - b) / (2 * a)\n",
    "    else:\n",
    "        tmax = trunc / b + np.log(trunc / b) / b  # extra length for the time array\n",
    "    t = np.linspace(0, tmax, num=tlen)\n",
    "    xx = np.fft.fftshift(np.fft.fftfreq(tzp)) / tmax * tlen   # x array in freq domain\n",
    "\n",
    "    # numerical FFT \n",
    "    fid = np.exp(-a * t**2 - b * t) * t\n",
    "    yy = np.fft.fftshift(np.abs(np.fft.fft(fid, tzp)))\n",
    "    \n",
    "    # analytical solution using time domain integral\n",
    "    yat = voigt1d_ft_ana(xx, a, b, yshift=0)\n",
    "    \n",
    "    # make figure\n",
    "    fig = go.Figure(layout=go.Layout(title='a={:g}, b={:g}'.format(a, b)))\n",
    "    fig.update_xaxes(range=[-10, 10])\n",
    "    fig.add_trace(go.Scatter(x=xx, y=yy/yy.max(), name='Numerical FFT'))\n",
    "    fig.add_trace(go.Scatter(x=xx, y=yat/yat.max(), name='Analytical Expression'))\n",
    "    fig.show()\n",
    "    fig_res.add_trace(go.Scatter(x=xx, y=yy/yy.max()-yat/yat.max(), name='YAT a={:g}, b={:g}'.format(a, b)))\n",
    "fig_res.update_layout(title='Residuals')\n",
    "fig_res.show()"
   ]
  },
  {
   "cell_type": "markdown",
   "metadata": {},
   "source": [
    "### Parameter conversion"
   ]
  },
  {
   "cell_type": "markdown",
   "metadata": {},
   "source": [
    "Test the parameter conversion for Complex Voigt profile:\n",
    "* $a = \\pi^2\\gamma_G^2 / (4\\ln 2) \\leftrightarrow \\gamma_G = 2\\sqrt{a\\ln 2} / \\pi$ \n",
    "* $b = \\pi \\gamma_L \\leftrightarrow \\gamma_L = b / \\pi$"
   ]
  },
  {
   "cell_type": "code",
   "execution_count": null,
   "metadata": {
    "scrolled": false
   },
   "outputs": [],
   "source": [
    "for i in range(4):\n",
    "    gg = abs(np.random.rand())\n",
    "    ll = abs(np.random.rand())\n",
    "    a = (np.pi * gg)**2 / (4 * np.log(2))\n",
    "    b = np.pi * ll\n",
    "    tlen = 2**12; tzp = tlen * 4     # length of time array & zero-padding array\n",
    "    trunc = 10   # time array truncation factor: truncate to intensity = exp(-10)\n",
    "\n",
    "    # find time array truncation to avoid spectral leakage\n",
    "    if a > 0:\n",
    "        tmax = (np.sqrt(b**2 + 4 * a * trunc) - b) / (2 * a)\n",
    "    else:\n",
    "        tmax = trunc / b \n",
    "    t = np.linspace(0, tmax, num=tlen)\n",
    "    xx = np.fft.fftshift(np.fft.fftfreq(tzp)) / tmax * tlen   # x array in freq domain\n",
    "\n",
    "    # numerical FFT \n",
    "    tfid = np.exp(-a * t**2 - b * t)\n",
    "    tv1d = t * tfid\n",
    "    ft_fid = np.fft.fftshift(np.abs(np.fft.fft(tfid, tzp)))   # 1st\n",
    "    ft_v1d = np.fft.fftshift(np.abs(np.fft.fft(tv1d, tzp)))   # 2nd\n",
    "\n",
    "    # voigt profile\n",
    "    yvc = complex_voigt(xx, gg, ll)\n",
    "    yv = voigt(xx, gg, ll)\n",
    "    ygau = np.abs(2 * np.pi * xx / np.sqrt(a) * wofz(-np.pi * xx / np.sqrt(a)) + 2 * 1j / np.sqrt(np.pi))\n",
    "\n",
    "    fig1 = go.Figure(layout=go.Layout(title='a={:.4f}, b={:.4f}, gg={:.4f}, ll={:.4f}'.format(a, b, gg, ll)))\n",
    "    fig1.update_xaxes(range=[-10, 10])\n",
    "    \n",
    "    fig1.add_trace(go.Scatter(x=xx, y=ft_fid/ft_fid.max(), name='FFT'))\n",
    "    fig1.add_trace(go.Scatter(x=xx, y=yvc, name='Complex Voigt'))\n",
    "    fig1.show()"
   ]
  },
  {
   "cell_type": "markdown",
   "metadata": {},
   "source": [
    "### Test numericall full width finder"
   ]
  },
  {
   "cell_type": "markdown",
   "metadata": {},
   "source": [
    "Validate the result range of the finder. The `fw_num` (interpolated) should be always between `min` and `max`:\n",
    "the distance between the $x$ points just above or below $y_\\text{max}/2$. "
   ]
  },
  {
   "cell_type": "code",
   "execution_count": null,
   "metadata": {},
   "outputs": [],
   "source": [
    "x = np.linspace(0, 5, num=101)\n",
    "y = np.exp(-x**2)\n",
    "print('{:^6s} {:^6s} {:^6s} {:^6s}'.format('min', 'fw_num', 'max', 'min<fw<max?'))\n",
    "for i in range(10):\n",
    "    xx = np.fft.fftshift(np.fft.fftfreq(101*2**i)) / 5 * 101\n",
    "    yy = np.fft.fftshift(np.abs(np.fft.fft(y, 101*2**i)))\n",
    "    vv = fwhm_num(xx, yy)\n",
    "    vv_min = xx[yy >= 0.5 * yy.max()].ptp()\n",
    "    xx_less = xx[yy < 0.5 * yy.max()]\n",
    "    vv_max = xx_less[xx_less > 0].min() - xx_less[xx_less < 0].max()\n",
    "    print('{:>6.4f} {:>6.4f} {:>6.4f} {:^6d}'.format(vv_min, vv, vv_max, vv_min < vv < vv_max))\n"
   ]
  },
  {
   "cell_type": "markdown",
   "metadata": {},
   "source": [
    "### Test convergence of zero-padding level for numerical full width"
   ]
  },
  {
   "cell_type": "markdown",
   "metadata": {},
   "source": [
    "Zero-padding length affects the finesse of the x grid on FT. This could affect the accuracy of numerical FW determination. Therefore, we need to test how much zero-padding is sufficient to get accurate fw."
   ]
  },
  {
   "cell_type": "markdown",
   "metadata": {},
   "source": [
    "#### For Kaiser window"
   ]
  },
  {
   "cell_type": "code",
   "execution_count": null,
   "metadata": {},
   "outputs": [],
   "source": [
    "a0 = 1.0; b0 = 0.0\n",
    "x = np.linspace(0, 1, num=2**10)\n",
    "y = np.exp(-a0*x**2-b0*x) \n",
    "fig = go.Figure()\n",
    "\n",
    "for pi_alpha in range(0, 17, 4):\n",
    "    yk = y * kaiser(len(x), pi_alpha)\n",
    "    vv = []\n",
    "    for i in range(11, 24):\n",
    "        xx = np.fft.fftshift(np.fft.fftfreq(2**i)) / 1 * 2**10\n",
    "        yy = np.fft.fftshift(np.abs(np.fft.fft(yk, 2**i)))\n",
    "        vv.append(fwhm_num(xx, yy))\n",
    "    fig.add_trace(go.Scatter(x=list(range(11, 24)), y=vv, name=str(pi_alpha)))\n",
    "\n",
    "fig.update_layout(\n",
    "    title=\"a0 = 1.0, b0 = 0.0\",\n",
    "    xaxis_title=\"FFT zero-padding length (log2 scale)\",\n",
    "    yaxis_title=\"Numerical FWHM\",\n",
    "    legend_title=\"πα\"\n",
    ")\n",
    "\n",
    "fig.show()\n"
   ]
  },
  {
   "cell_type": "markdown",
   "metadata": {},
   "source": [
    "This test shows that a zero-padding factor of $2^6$ is sufficient to get a reliable estimation of the numerical FWHM for Kaiser-Bessel window up to 4 decimal points."
   ]
  },
  {
   "cell_type": "markdown",
   "metadata": {},
   "source": [
    "#### For Voigt-1D window"
   ]
  },
  {
   "cell_type": "code",
   "execution_count": null,
   "metadata": {},
   "outputs": [],
   "source": [
    "fig = go.Figure()\n",
    "b_grid = np.arange(-5, 6)\n",
    "trunc = 10\n",
    "\n",
    "for a in [0, 1, 5]:\n",
    "    fig = go.Figure()\n",
    "    for b in b_grid:\n",
    "        if a == 0 and b <= 0:   # skip invalid parameters\n",
    "            pass\n",
    "        else:\n",
    "            if a > 0:\n",
    "                tmax = (np.sqrt(b**2 + 4 * a * trunc) - b) / (2 * a)\n",
    "            else:\n",
    "                tmax = trunc / b +  np.log(trunc / b) / b  # extra length for the time array\n",
    "            \n",
    "            t = np.linspace(0, tmax, num=2**10)\n",
    "            y = np.exp(-a*t**2-b*t)*t \n",
    "            vv = []\n",
    "            for i in range(11, 24):\n",
    "                xx = np.fft.fftshift(np.fft.fftfreq(2**i)) / 1 * 2**10\n",
    "                yy = np.fft.fftshift(np.abs(np.fft.fft(y, 2**i)))\n",
    "                vv.append(fwhm_num(xx, yy))\n",
    "        fig.add_trace(go.Scatter(x=list(range(11, 24)), y=vv, name=str(b)))\n",
    "    fig.update_layout(\n",
    "        title=\"a = {:d}\".format(a),\n",
    "        xaxis_title=\"FFT zero-padding length (log2 scale)\",\n",
    "        yaxis_title=\"Numerical FWHM\",\n",
    "        legend_title=\"b\"\n",
    "    )\n",
    "    fig.show()\n"
   ]
  },
  {
   "cell_type": "markdown",
   "metadata": {},
   "source": [
    "This test shows that a zero-padding factor of $2^6$ is sufficient to get a reliable estimation of the numerical FWHM for Voigt-1D window up to 4 decimal points."
   ]
  },
  {
   "cell_type": "markdown",
   "metadata": {},
   "source": [
    "#### Test precision of Voigt-1D numerical FWHM solvers: quadratic fitting v.s. root-finding"
   ]
  },
  {
   "cell_type": "markdown",
   "metadata": {},
   "source": [
    "The test result shows that two approaches return identical results."
   ]
  },
  {
   "cell_type": "code",
   "execution_count": null,
   "metadata": {},
   "outputs": [],
   "source": [
    "x = np.linspace(-100, 100, 10**5+1)\n",
    "vv_quad = []\n",
    "vv_root = []\n",
    "for a in np.arange(0, 5.1, 0.5):\n",
    "    for b in np.arange(-5, 5.1, 0.5):\n",
    "        if b <= 0 and abs(b) >= 2*np.sqrt(a):\n",
    "            pass\n",
    "        else:\n",
    "            y = voigt1d_ft_ana(x, a, b, yshift=0)\n",
    "            vv_root.append(fwhm_ab(a, b))\n",
    "            vv_quad.append(fwhm_num(x, y))\n",
    "fig = go.Figure()\n",
    "fig.add_trace(go.Scatter(x=np.arange(len(vv_quad)), y=vv_quad, name='quad', mode='markers'))\n",
    "fig.add_trace(go.Scatter(x=np.arange(len(vv_quad)), y=vv_root, name='root', mode='markers'))\n",
    "fig.show()"
   ]
  }
 ],
 "metadata": {
  "kernelspec": {
   "display_name": "Python 3",
   "language": "python",
   "name": "python3"
  },
  "language_info": {
   "codemirror_mode": {
    "name": "ipython",
    "version": 3
   },
   "file_extension": ".py",
   "mimetype": "text/x-python",
   "name": "python",
   "nbconvert_exporter": "python",
   "pygments_lexer": "ipython3",
   "version": "3.6.8"
  }
 },
 "nbformat": 4,
 "nbformat_minor": 2
}
